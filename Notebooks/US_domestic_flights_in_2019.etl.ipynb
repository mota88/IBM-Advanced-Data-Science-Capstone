{
 "cells": [
  {
   "cell_type": "markdown",
   "metadata": {},
   "source": [
    "# Extract, Transform, Load (ETL)"
   ]
  },
  {
   "cell_type": "markdown",
   "metadata": {},
   "source": [
    "***"
   ]
  },
  {
   "cell_type": "markdown",
   "metadata": {},
   "source": [
    "This is a very simple notebook where data is read from some csv files which are stored in a dataframe. Then, an unused column is dropped, duplicate and NaN rows are deleted along with rows of cancelled flights (these are basically NaN rows and we won't be using them in the analysis), a sample of the data set is randomly taken, and default column names are changed for the ease of typing. Finally, methods to export/read the data frame to/from HDF5 are defined."
   ]
  },
  {
   "cell_type": "code",
   "execution_count": 1,
   "metadata": {},
   "outputs": [],
   "source": [
    "import pandas as pd\n",
    "import numpy as np\n",
    "import os\n",
    "import glob\n",
    "import matplotlib.pyplot as plt\n",
    "import matplotlib.ticker as ticker"
   ]
  },
  {
   "cell_type": "code",
   "execution_count": 2,
   "metadata": {},
   "outputs": [],
   "source": [
    "# functions definition\n",
    "\n",
    "def csvToDf(all_files): # read csv files and store into dataframe\n",
    "    df_from_each_file = (pd.read_csv(file) for file in all_files) # read files\n",
    "    concatenated_df = pd.concat(df_from_each_file) # concatenate all 12 dataframes\n",
    "    return concatenated_df\n",
    "\n",
    "def dropUnnamedCol(df): # drop undesired column\n",
    "    df_aux = df.drop(df.filter(regex='Unname'), axis=1)\n",
    "    return df_aux\n",
    "\n",
    "def deleteDuplicatesAndNan(df):\n",
    "    df_aux1 = df.drop_duplicates() # delete all duplicates\n",
    "    df_aux2 = df_aux1.dropna(axis=0, how='all') # delete NaN rows\n",
    "    df_clean = df_aux2.drop(df_aux2[df_aux2['CANCELLED'] == 1].index) # delete cancelled flights\n",
    "    return df_clean\n",
    "\n",
    "def dfToSample(df, size): # use a random sample of data for faster computations\n",
    "    sample = df.sample(frac = size)\n",
    "    return sample\n",
    "\n",
    "def changeColumnLabels(df):\n",
    "    new_column_names = ['year','month','day-of-month','day-of-week','date','origin', \n",
    "                    'destination','departure-time','departure-delay','taxi-out','taxi-in', \n",
    "                    'arrival-time','arrival-delay','cancelled','actual-elapsed-time',\n",
    "                    'air-time','distance','carrier-delay','weather-delay',\n",
    "                    'nas-delay','security-delay','late-aircraft-delay']\n",
    "    df.columns = new_column_names\n",
    "    return df\n",
    "\n",
    "def toHdf5(df, path): # export the pandas data frame into HDF5\n",
    "    df.to_hdf(path + 'h5File.h5', key='df', mode='w')\n",
    "    \n",
    "def readHdf5(path):  # use pandas to read data from the hdf5 file\n",
    "    df = pd.read_hdf(path + 'h5File.h5', 'df')\n",
    "    return df"
   ]
  },
  {
   "cell_type": "code",
   "execution_count": 3,
   "metadata": {},
   "outputs": [],
   "source": [
    "path = '../'\n",
    "all_files = glob.iglob(os.path.join(path, '*.csv')) # gather all 12 csv files, one per month\n",
    "concatenated_df = csvToDf(all_files)\n",
    "df_drop = dropUnnamedCol(concatenated_df)\n",
    "df_clean = deleteDuplicatesAndNan(df_drop)\n",
    "sample_df = dfToSample(df_clean, 0.025)\n",
    "df = changeColumnLabels(sample_df)\n",
    "toHdf5(df, path) # store the transformed data frame\n",
    "df = readHdf5(path) # check that the data frame can be read"
   ]
  },
  {
   "cell_type": "code",
   "execution_count": 5,
   "metadata": {},
   "outputs": [
    {
     "name": "stdout",
     "output_type": "stream",
     "text": [
      "Total number of entries (non-cancelled flights) in the data frame: 158599\n"
     ]
    },
    {
     "data": {
      "image/png": "[encoded data removed]",
      "text/plain": [
       "<Figure size 432x288 with 1 Axes>"
      ]
     },
     "metadata": {
      "needs_background": "light"
     },
     "output_type": "display_data"
    }
   ],
   "source": [
    "ax = df.groupby(by = 'month')['year'].count().plot(kind='bar')\n",
    "plt.title('US Flights per month in 2019', fontsize=20)\n",
    "plt.ylabel('Number of Flights', fontsize=18)\n",
    "plt.xlabel('Month', fontsize=18)\n",
    "ax.yaxis.set_major_formatter(ticker.EngFormatter())\n",
    "plt.setp(ax.xaxis.get_majorticklabels(), rotation = 0)\n",
    "print('Total number of entries (non-cancelled flights) in the data frame: ' + str(len(df.index)))"
   ]
  }
 ],
 "metadata": {
  "kernelspec": {
   "display_name": "Python 3",
   "language": "python",
   "name": "python3"
  },
  "language_info": {
   "codemirror_mode": {
    "name": "ipython",
    "version": 3
   },
   "file_extension": ".py",
   "mimetype": "text/x-python",
   "name": "python",
   "nbconvert_exporter": "python",
   "pygments_lexer": "ipython3",
   "version": "3.8.5"
  }
 },
 "nbformat": 4,
 "nbformat_minor": 4
}
