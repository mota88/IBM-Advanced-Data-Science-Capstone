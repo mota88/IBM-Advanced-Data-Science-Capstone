{
 "cells": [
  {
   "cell_type": "markdown",
   "metadata": {},
   "source": [
    "# Model Definition and Evaluation"
   ]
  },
  {
   "cell_type": "markdown",
   "metadata": {},
   "source": [
    "***"
   ]
  },
  {
   "cell_type": "code",
   "execution_count": 1,
   "metadata": {},
   "outputs": [],
   "source": [
    "import pandas as pd\n",
    "import numpy as np\n",
    "import matplotlib.pyplot as plt\n",
    "import seaborn as sns"
   ]
  },
  {
   "cell_type": "code",
   "execution_count": 2,
   "metadata": {},
   "outputs": [],
   "source": [
    "#functions\n",
    "\n",
    "def readHdf5(path):  # use pandas to read data from the hdf5 file\n",
    "    df = pd.read_hdf(path + 'h5File_FE.h5', 'df')\n",
    "    return df"
   ]
  },
  {
   "cell_type": "code",
   "execution_count": 3,
   "metadata": {},
   "outputs": [],
   "source": [
    "path = '../'\n",
    "df = readHdf5(path)"
   ]
  },
  {
   "cell_type": "code",
   "execution_count": 4,
   "metadata": {},
   "outputs": [
    {
     "data": {
      "text/html": [
       "<div>\n",
       "<style scoped>\n",
       "    .dataframe tbody tr th:only-of-type {\n",
       "        vertical-align: middle;\n",
       "    }\n",
       "\n",
       "    .dataframe tbody tr th {\n",
       "        vertical-align: top;\n",
       "    }\n",
       "\n",
       "    .dataframe thead th {\n",
       "        text-align: right;\n",
       "    }\n",
       "</style>\n",
       "<table border=\"1\" class=\"dataframe\">\n",
       "  <thead>\n",
       "    <tr style=\"text-align: right;\">\n",
       "      <th></th>\n",
       "      <th>date</th>\n",
       "      <th>origin</th>\n",
       "      <th>destination</th>\n",
       "      <th>departure-time</th>\n",
       "      <th>departure-delay</th>\n",
       "      <th>taxi-out</th>\n",
       "      <th>taxi-in</th>\n",
       "      <th>arrival-time</th>\n",
       "      <th>arrival-delay</th>\n",
       "      <th>air-time</th>\n",
       "      <th>carrier-delay</th>\n",
       "      <th>weather-delay</th>\n",
       "      <th>nas-delay</th>\n",
       "      <th>security-delay</th>\n",
       "      <th>late-aircraft-delay</th>\n",
       "      <th>month</th>\n",
       "      <th>day-of-the-month</th>\n",
       "      <th>day-of-the-week</th>\n",
       "      <th>delayed</th>\n",
       "      <th>status</th>\n",
       "    </tr>\n",
       "  </thead>\n",
       "  <tbody>\n",
       "    <tr>\n",
       "      <th>342111</th>\n",
       "      <td>2019-02-12</td>\n",
       "      <td>163</td>\n",
       "      <td>185</td>\n",
       "      <td>0.808670</td>\n",
       "      <td>0.016538</td>\n",
       "      <td>0.13750</td>\n",
       "      <td>0.064516</td>\n",
       "      <td>0.888704</td>\n",
       "      <td>0.037459</td>\n",
       "      <td>0.269400</td>\n",
       "      <td>0.0</td>\n",
       "      <td>0.0</td>\n",
       "      <td>0.019608</td>\n",
       "      <td>0.0</td>\n",
       "      <td>0.0</td>\n",
       "      <td>2</td>\n",
       "      <td>12</td>\n",
       "      <td>1</td>\n",
       "      <td>True</td>\n",
       "      <td>1</td>\n",
       "    </tr>\n",
       "    <tr>\n",
       "      <th>298420</th>\n",
       "      <td>2019-07-14</td>\n",
       "      <td>57</td>\n",
       "      <td>122</td>\n",
       "      <td>0.885369</td>\n",
       "      <td>0.018008</td>\n",
       "      <td>0.05000</td>\n",
       "      <td>0.048387</td>\n",
       "      <td>0.977491</td>\n",
       "      <td>0.020198</td>\n",
       "      <td>0.162518</td>\n",
       "      <td>0.0</td>\n",
       "      <td>0.0</td>\n",
       "      <td>0.000000</td>\n",
       "      <td>0.0</td>\n",
       "      <td>0.0</td>\n",
       "      <td>7</td>\n",
       "      <td>14</td>\n",
       "      <td>6</td>\n",
       "      <td>False</td>\n",
       "      <td>0</td>\n",
       "    </tr>\n",
       "    <tr>\n",
       "      <th>275467</th>\n",
       "      <td>2019-04-27</td>\n",
       "      <td>243</td>\n",
       "      <td>20</td>\n",
       "      <td>0.431013</td>\n",
       "      <td>0.017273</td>\n",
       "      <td>0.04375</td>\n",
       "      <td>0.008065</td>\n",
       "      <td>0.556065</td>\n",
       "      <td>0.020198</td>\n",
       "      <td>0.147877</td>\n",
       "      <td>0.0</td>\n",
       "      <td>0.0</td>\n",
       "      <td>0.000000</td>\n",
       "      <td>0.0</td>\n",
       "      <td>0.0</td>\n",
       "      <td>4</td>\n",
       "      <td>27</td>\n",
       "      <td>5</td>\n",
       "      <td>False</td>\n",
       "      <td>0</td>\n",
       "    </tr>\n",
       "    <tr>\n",
       "      <th>271709</th>\n",
       "      <td>2019-06-03</td>\n",
       "      <td>163</td>\n",
       "      <td>187</td>\n",
       "      <td>0.596082</td>\n",
       "      <td>0.015803</td>\n",
       "      <td>0.11875</td>\n",
       "      <td>0.024194</td>\n",
       "      <td>0.648604</td>\n",
       "      <td>0.024238</td>\n",
       "      <td>0.250366</td>\n",
       "      <td>0.0</td>\n",
       "      <td>0.0</td>\n",
       "      <td>0.000000</td>\n",
       "      <td>0.0</td>\n",
       "      <td>0.0</td>\n",
       "      <td>6</td>\n",
       "      <td>3</td>\n",
       "      <td>0</td>\n",
       "      <td>False</td>\n",
       "      <td>0</td>\n",
       "    </tr>\n",
       "    <tr>\n",
       "      <th>50814</th>\n",
       "      <td>2019-10-09</td>\n",
       "      <td>232</td>\n",
       "      <td>207</td>\n",
       "      <td>0.841601</td>\n",
       "      <td>0.016538</td>\n",
       "      <td>0.06250</td>\n",
       "      <td>0.000000</td>\n",
       "      <td>0.931638</td>\n",
       "      <td>0.017260</td>\n",
       "      <td>0.081991</td>\n",
       "      <td>0.0</td>\n",
       "      <td>0.0</td>\n",
       "      <td>0.000000</td>\n",
       "      <td>0.0</td>\n",
       "      <td>0.0</td>\n",
       "      <td>10</td>\n",
       "      <td>9</td>\n",
       "      <td>2</td>\n",
       "      <td>False</td>\n",
       "      <td>0</td>\n",
       "    </tr>\n",
       "  </tbody>\n",
       "</table>\n",
       "</div>"
      ],
      "text/plain": [
       "             date  origin  destination  departure-time  departure-delay  \\\n",
       "342111 2019-02-12     163          185        0.808670         0.016538   \n",
       "298420 2019-07-14      57          122        0.885369         0.018008   \n",
       "275467 2019-04-27     243           20        0.431013         0.017273   \n",
       "271709 2019-06-03     163          187        0.596082         0.015803   \n",
       "50814  2019-10-09     232          207        0.841601         0.016538   \n",
       "\n",
       "        taxi-out   taxi-in  arrival-time  arrival-delay  air-time  \\\n",
       "342111   0.13750  0.064516      0.888704       0.037459  0.269400   \n",
       "298420   0.05000  0.048387      0.977491       0.020198  0.162518   \n",
       "275467   0.04375  0.008065      0.556065       0.020198  0.147877   \n",
       "271709   0.11875  0.024194      0.648604       0.024238  0.250366   \n",
       "50814    0.06250  0.000000      0.931638       0.017260  0.081991   \n",
       "\n",
       "        carrier-delay  weather-delay  nas-delay  security-delay  \\\n",
       "342111            0.0            0.0   0.019608             0.0   \n",
       "298420            0.0            0.0   0.000000             0.0   \n",
       "275467            0.0            0.0   0.000000             0.0   \n",
       "271709            0.0            0.0   0.000000             0.0   \n",
       "50814             0.0            0.0   0.000000             0.0   \n",
       "\n",
       "        late-aircraft-delay  month  day-of-the-month  day-of-the-week  \\\n",
       "342111                  0.0      2                12                1   \n",
       "298420                  0.0      7                14                6   \n",
       "275467                  0.0      4                27                5   \n",
       "271709                  0.0      6                 3                0   \n",
       "50814                   0.0     10                 9                2   \n",
       "\n",
       "        delayed  status  \n",
       "342111     True       1  \n",
       "298420    False       0  \n",
       "275467    False       0  \n",
       "271709    False       0  \n",
       "50814     False       0  "
      ]
     },
     "execution_count": 4,
     "metadata": {},
     "output_type": "execute_result"
    }
   ],
   "source": [
    "df.head()"
   ]
  },
  {
   "cell_type": "code",
   "execution_count": 5,
   "metadata": {},
   "outputs": [],
   "source": [
    "np.set_printoptions(precision=3)\n",
    "np.set_printoptions(suppress=True)"
   ]
  },
  {
   "cell_type": "markdown",
   "metadata": {},
   "source": [
    "# 1. Feature Selection"
   ]
  },
  {
   "cell_type": "markdown",
   "metadata": {},
   "source": [
    "Feature selection is a process where you automatically select those features in your data that contribute most to the prediction variable or output in which you are interested. In this section, we will use three feature selection techniques for our target label *delayed* (classification):\n",
    "\n",
    "* Feature Correlation\n",
    "* Feature Importance\n",
    "* Univariate Feature Selection"
   ]
  },
  {
   "cell_type": "markdown",
   "metadata": {},
   "source": [
    "* **Feature Correlation**"
   ]
  },
  {
   "cell_type": "markdown",
   "metadata": {},
   "source": [
    "First we use the simplest method, correlation, to compare all relevant features to our target: *delayed*."
   ]
  },
  {
   "cell_type": "code",
   "execution_count": 6,
   "metadata": {},
   "outputs": [
    {
     "data": {
      "image/png": "[encoded data removed]",
      "text/plain": [
       "<Figure size 432x288 with 1 Axes>"
      ]
     },
     "metadata": {
      "needs_background": "light"
     },
     "output_type": "display_data"
    }
   ],
   "source": [
    "X = df[['origin','destination','departure-time','departure-delay','taxi-out','taxi-in',\n",
    "        'arrival-time','air-time','carrier-delay','weather-delay','nas-delay','security-delay',\n",
    "        'late-aircraft-delay','month','day-of-the-month','day-of-the-week','delayed']]  # features\n",
    "\n",
    "df_corr = X.corr()['delayed'].sort_values(ascending=False).head(6)\n",
    "top_corr_features = df_corr.index # plot top 5 (plus delayed) most correlated features to our target\n",
    "df_corr.plot(kind='barh')\n",
    "plt.show()"
   ]
  },
  {
   "cell_type": "markdown",
   "metadata": {},
   "source": [
    "* **Feature Importance - Random Forests Classifier**"
   ]
  },
  {
   "cell_type": "markdown",
   "metadata": {},
   "source": [
    "Bagged decision trees like Random Forest can be used to estimate the importance of features.\n",
    "\n",
    "First, we separate the columns into dependent and independent variables (or features and labels)."
   ]
  },
  {
   "cell_type": "code",
   "execution_count": 7,
   "metadata": {},
   "outputs": [],
   "source": [
    "X = df[['origin','destination','departure-time','departure-delay','taxi-out','taxi-in',\n",
    "        'arrival-time','air-time','carrier-delay','weather-delay','nas-delay','security-delay',\n",
    "        'late-aircraft-delay','month','day-of-the-month','day-of-the-week']]  # features\n",
    "y = df['delayed']  # target"
   ]
  },
  {
   "cell_type": "markdown",
   "metadata": {},
   "source": [
    "Next, we define the model, we fit it, get the features importances and summarize them in a plot."
   ]
  },
  {
   "cell_type": "code",
   "execution_count": 8,
   "metadata": {},
   "outputs": [
    {
     "data": {
      "image/png": "[encoded data removed]",
      "text/plain": [
       "<Figure size 432x288 with 1 Axes>"
      ]
     },
     "metadata": {
      "needs_background": "light"
     },
     "output_type": "display_data"
    },
    {
     "name": "stdout",
     "output_type": "stream",
     "text": [
      "departure-delay        0.293994\n",
      "nas-delay              0.283597\n",
      "late-aircraft-delay    0.195651\n",
      "carrier-delay          0.172461\n",
      "taxi-out               0.021830\n",
      "dtype: float64\n"
     ]
    }
   ],
   "source": [
    "from sklearn.ensemble import RandomForestClassifier\n",
    "\n",
    "clf_rfc = RandomForestClassifier()\n",
    "clf_rfc.fit(X, y)\n",
    "importance = clf_rfc.feature_importances_\n",
    "\n",
    "feat_importances = pd.Series(clf_rfc.feature_importances_, index=X.columns)\n",
    "df_imp_feat = feat_importances.nlargest(5)\n",
    "\n",
    "df_imp_feat.plot(kind='barh')\n",
    "plt.show()\n",
    "print(df_imp_feat)"
   ]
  },
  {
   "cell_type": "markdown",
   "metadata": {},
   "source": [
    "Let's see what we obtain with Univariate Selection"
   ]
  },
  {
   "cell_type": "markdown",
   "metadata": {},
   "source": [
    "* **Univariate Selection - SelectKBest**"
   ]
  },
  {
   "cell_type": "markdown",
   "metadata": {},
   "source": [
    "Statistical tests can be used to select those features that have the strongest relationship with the output variable. The scikit-learn library provides the SelectKBest class that can be used with a suite of different statistical tests to select a specific number of features.\n",
    "\n",
    "Here we instantiate SelectKBest to determine the k=5 best features."
   ]
  },
  {
   "cell_type": "code",
   "execution_count": 9,
   "metadata": {},
   "outputs": [
    {
     "name": "stdout",
     "output_type": "stream",
     "text": [
      "           Feature Name         Score\n",
      "3       departure-delay  58640.474308\n",
      "12  late-aircraft-delay  32228.640285\n",
      "10            nas-delay  21732.573529\n",
      "4              taxi-out  13790.091547\n",
      "8         carrier-delay  12241.039160\n"
     ]
    }
   ],
   "source": [
    "from sklearn.feature_selection import SelectKBest\n",
    "from sklearn.feature_selection import f_classif\n",
    "\n",
    "k = 5\n",
    "\n",
    "select_features = SelectKBest(f_classif, k=k).fit(X, y)\n",
    "\n",
    "df_scores = pd.DataFrame(select_features.scores_)\n",
    "X_columns = pd.DataFrame(X.columns)\n",
    "\n",
    "feature_scores = pd.concat([X_columns, df_scores], axis=1)\n",
    "feature_scores.columns = ['Feature Name','Score']  # name output columns\n",
    "print(feature_scores.nlargest(k,'Score'))  # print k best features"
   ]
  },
  {
   "cell_type": "markdown",
   "metadata": {},
   "source": [
    "**Conclusion:** After the using the above three methods, it seems that the best might be to use only *departure-delay* and *taxi-out*, since they appear as the best two features in the three cases. However, some caution might be required since the scores of *taxi-out* were never very high. The remaining features have very low scores in all cases.\n",
    "\n",
    "For these reasons, we will attempt to define models first with all features and then with the above two. The best results will guide us to select the right approach."
   ]
  },
  {
   "cell_type": "markdown",
   "metadata": {},
   "source": [
    "# 2. Implementation of Algorithms"
   ]
  },
  {
   "cell_type": "markdown",
   "metadata": {},
   "source": [
    "We will test the following three approaches for our model:\n",
    "\n",
    "* Classic ML Approach 1 - **Random Forest Classifier**\n",
    "* Classic ML Approach 2 - **Support Vector Machine**\n",
    "* Neural Network Approach - **Multi-Layer Perceptron Classifier**\n",
    "\n",
    "We'll try to interpret the performance of the models using these measures:\n",
    "\n",
    "1. **Accuracy** - Accuracy is the most intuitive performance measure and it is simply a ratio of correctly predicted observation to the total observations. One may think that, if we have high accuracy then our model is best. Yes, accuracy is a great measure but only when you have symmetric datasets where values of false positive and false negatives are almost same.\n",
    "2. **Precision** - Precision is the ratio of correctly predicted positive observations to the total predicted positive observations.\n",
    "3. **Recall** (Sensitivity) - Recall is the ratio of correctly predicted positive observations to the all observations in actual class - yes.\n",
    "4. **F1 score** - F1 Score is the weighted average of Precision and Recall. Therefore, this score takes both false positives and false negatives into account. Intuitively it is not as easy to understand as accuracy, but F1 is usually more useful than accuracy, especially if you have an uneven class distribution. Accuracy works best if false positives and false negatives have similar cost. If the cost of false positives and false negatives are very different, it’s better to look at both Precision and Recall."
   ]
  },
  {
   "cell_type": "code",
   "execution_count": 10,
   "metadata": {},
   "outputs": [],
   "source": [
    "X = df[['origin','destination','departure-time','departure-delay','taxi-out','taxi-in',\n",
    "        'arrival-time','air-time','carrier-delay','weather-delay','nas-delay','security-delay',\n",
    "        'late-aircraft-delay','month','day-of-the-month','day-of-the-week']]  # all features\n",
    "\n",
    "# only some selected features\n",
    "X_selected = df[['departure-delay','taxi-out','nas-delay','late-aircraft-delay','carrier-delay']]\n",
    "\n",
    "y = df['delayed']  # label"
   ]
  },
  {
   "cell_type": "markdown",
   "metadata": {},
   "source": [
    "**Random Forest Classifier**"
   ]
  },
  {
   "cell_type": "code",
   "execution_count": 11,
   "metadata": {},
   "outputs": [],
   "source": [
    "from sklearn.model_selection import train_test_split\n",
    "\n",
    "# split data into training set (70 %) and test set (30 %)\n",
    "X_train, X_test, y_train, y_test = train_test_split(X, y, test_size=0.3, random_state=42)"
   ]
  },
  {
   "cell_type": "code",
   "execution_count": 12,
   "metadata": {},
   "outputs": [
    {
     "name": "stdout",
     "output_type": "stream",
     "text": [
      "Recall: 1.000\n",
      "Precision: 1.000\n",
      "Accuracy: 1.000\n",
      "F1: 1.000\n",
      "Feature importances: [0.001 0.001 0.002 0.267 0.024 0.004 0.004 0.001 0.167 0.017 0.296 0.001\n",
      " 0.215 0.    0.    0.   ]\n"
     ]
    },
    {
     "data": {
      "image/png": "[encoded data removed]",
      "text/plain": [
       "<Figure size 432x288 with 2 Axes>"
      ]
     },
     "metadata": {
      "needs_background": "light"
     },
     "output_type": "display_data"
    }
   ],
   "source": [
    "from sklearn.metrics import accuracy_score,precision_score,recall_score,f1_score,confusion_matrix\n",
    "\n",
    "clf_rfc = RandomForestClassifier(n_estimators=100, random_state=42).fit(X_train, y_train)\n",
    "y_pred = clf_rfc.predict(X_test)\n",
    "\n",
    "confusion = confusion_matrix(y_test, y_pred)\n",
    "\n",
    "print('Recall: {:.3f}'.format(recall_score(y_test, y_pred)))\n",
    "print('Precision: {:.3f}'.format(precision_score(y_test, y_pred)))\n",
    "print('Accuracy: {:.3f}'.format(accuracy_score(y_test, y_pred)))\n",
    "print('F1: {:.3f}'.format(f1_score(y_test, y_pred)))\n",
    "cm = confusion_matrix(y_test, y_pred)\n",
    "sns.heatmap(cm, annot=True, fmt='d')\n",
    "\n",
    "print('Feature importances: {}'.format(clf_rfc.feature_importances_))"
   ]
  },
  {
   "cell_type": "code",
   "execution_count": 13,
   "metadata": {},
   "outputs": [],
   "source": [
    "X_train, X_test, y_train, y_test = train_test_split(X_selected, y, test_size=0.3, random_state=42)"
   ]
  },
  {
   "cell_type": "code",
   "execution_count": 14,
   "metadata": {},
   "outputs": [
    {
     "name": "stdout",
     "output_type": "stream",
     "text": [
      "Recall: 0.995\n",
      "Precision: 0.995\n",
      "Accuracy: 0.998\n",
      "F1: 0.995\n",
      "Feature importances: [0.341 0.012 0.316 0.172 0.159]\n"
     ]
    },
    {
     "data": {
      "image/png": "[encoded data removed]",
      "text/plain": [
       "<Figure size 432x288 with 2 Axes>"
      ]
     },
     "metadata": {
      "needs_background": "light"
     },
     "output_type": "display_data"
    }
   ],
   "source": [
    "clf_rfc = RandomForestClassifier(n_estimators=100, random_state=42).fit(X_train, y_train)\n",
    "y_pred = clf_rfc.predict(X_test)\n",
    "\n",
    "confusion = confusion_matrix(y_test, y_pred)\n",
    "\n",
    "print('Recall: {:.3f}'.format(recall_score(y_test, y_pred)))\n",
    "print('Precision: {:.3f}'.format(precision_score(y_test, y_pred)))\n",
    "print('Accuracy: {:.3f}'.format(accuracy_score(y_test, y_pred)))\n",
    "print('F1: {:.3f}'.format(f1_score(y_test, y_pred)))\n",
    "cm = confusion_matrix(y_test, y_pred)\n",
    "sns.heatmap(cm, annot=True, fmt='d')\n",
    "\n",
    "print('Feature importances: {}'.format(clf_rfc.feature_importances_))"
   ]
  },
  {
   "cell_type": "markdown",
   "metadata": {},
   "source": [
    "So with this first model, we see that it actually performed better using all features, instead of only the *best* features according to classification (other tests were made using even less features and the results were even poorer.\n",
    "\n",
    "Overall, all metrics are extremely high with RFC, so problably we won't get any better with SVM or with the MLPClassifier."
   ]
  },
  {
   "cell_type": "markdown",
   "metadata": {},
   "source": [
    "**Support Vector Machine**"
   ]
  },
  {
   "cell_type": "markdown",
   "metadata": {},
   "source": [
    "The goal of the SVM algorithm is to find a hyperplane in an n-dimensional space (n is the number of features) that distinctly classifies the data points.\n",
    "\n",
    "Here, we'll use a Gaussian RBF (Radial Basis Function) for the kernel, which is a function whose value depends on the distance from the origin or from some other point."
   ]
  },
  {
   "cell_type": "code",
   "execution_count": 15,
   "metadata": {},
   "outputs": [],
   "source": [
    "X_train, X_test, y_train, y_test = train_test_split(X, y, test_size=0.3, random_state=42)"
   ]
  },
  {
   "cell_type": "code",
   "execution_count": 16,
   "metadata": {},
   "outputs": [
    {
     "name": "stdout",
     "output_type": "stream",
     "text": [
      "Recall: 0.018\n",
      "Precision: 0.325\n",
      "Accuracy: 0.805\n",
      "F1: 0.034\n"
     ]
    },
    {
     "data": {
      "image/png": "[encoded data removed]",
      "text/plain": [
       "<Figure size 432x288 with 2 Axes>"
      ]
     },
     "metadata": {
      "needs_background": "light"
     },
     "output_type": "display_data"
    }
   ],
   "source": [
    "from sklearn.svm import SVC\n",
    "\n",
    "svm = SVC(kernel='rbf', C=1000, gamma=6, random_state=42).fit(X_train, y_train)\n",
    "y_pred = svm.predict(X_test)\n",
    "\n",
    "print('Recall: {:.3f}'.format(recall_score(y_test, y_pred)))\n",
    "print('Precision: {:.3f}'.format(precision_score(y_test, y_pred)))\n",
    "print('Accuracy: {:.3f}'.format(accuracy_score(y_test, y_pred)))\n",
    "print('F1: {:.3f}'.format(f1_score(y_test, y_pred)))\n",
    "cm = confusion_matrix(y_test, y_pred)\n",
    "sns.heatmap(cm, annot=True, fmt='d')\n",
    "\n",
    "y_scores = svm.decision_function(X_test)\n",
    "y_score_list = list(zip(y_test[0:20], y_scores[0:20]))"
   ]
  },
  {
   "cell_type": "markdown",
   "metadata": {},
   "source": []
  },
  {
   "cell_type": "code",
   "execution_count": 17,
   "metadata": {},
   "outputs": [],
   "source": [
    "X_train, X_test, y_train, y_test = train_test_split(X_selected, y, test_size=0.3, random_state=42)"
   ]
  },
  {
   "cell_type": "code",
   "execution_count": 18,
   "metadata": {},
   "outputs": [
    {
     "name": "stdout",
     "output_type": "stream",
     "text": [
      "Recall: 0.993\n",
      "Precision: 0.998\n",
      "Accuracy: 0.998\n",
      "F1: 0.995\n"
     ]
    },
    {
     "data": {
      "image/png": "[encoded data removed]",
      "text/plain": [
       "<Figure size 432x288 with 2 Axes>"
      ]
     },
     "metadata": {
      "needs_background": "light"
     },
     "output_type": "display_data"
    }
   ],
   "source": [
    "svm = SVC(kernel='rbf', C=1000, gamma=6, random_state=42).fit(X_train, y_train)\n",
    "y_pred = svm.predict(X_test)\n",
    "\n",
    "print('Recall: {:.3f}'.format(recall_score(y_test, y_pred)))\n",
    "print('Precision: {:.3f}'.format(precision_score(y_test, y_pred)))\n",
    "print('Accuracy: {:.3f}'.format(accuracy_score(y_test, y_pred)))\n",
    "print('F1: {:.3f}'.format(f1_score(y_test, y_pred)))\n",
    "cm = confusion_matrix(y_test, y_pred)\n",
    "sns.heatmap(cm, annot=True, fmt='d')\n",
    "\n",
    "y_scores = svm.decision_function(X_test)\n",
    "y_score_list = list(zip(y_test[0:20], y_scores[0:20]))"
   ]
  },
  {
   "cell_type": "markdown",
   "metadata": {},
   "source": [
    "As expected, SVM gives worse predictions than RFC for our data. However, for the shorter group of features it did work almost as good as RFC. Great results!\n",
    "\n",
    "Let's try now with a DeepLearning Algorithm."
   ]
  },
  {
   "cell_type": "markdown",
   "metadata": {},
   "source": [
    "**Multi-Layer Perceptron Classifier**"
   ]
  },
  {
   "cell_type": "markdown",
   "metadata": {},
   "source": [
    "One can do simple deep learning regression and classification models with the scikit-learn package. However, for most real-life large-scale projects, these algorithms might not be the best choice as there is no GPU support and very limited options to tweak the parameters."
   ]
  },
  {
   "cell_type": "code",
   "execution_count": 19,
   "metadata": {},
   "outputs": [],
   "source": [
    "X_train, X_test, y_train, y_test = train_test_split(X, y, test_size=0.3, random_state=42)"
   ]
  },
  {
   "cell_type": "code",
   "execution_count": 20,
   "metadata": {},
   "outputs": [
    {
     "name": "stdout",
     "output_type": "stream",
     "text": [
      "Recall: 0.984\n",
      "Precision: 0.997\n",
      "Accuracy: 0.996\n",
      "F1: 0.990\n"
     ]
    },
    {
     "data": {
      "text/plain": [
       "<AxesSubplot:>"
      ]
     },
     "execution_count": 20,
     "metadata": {},
     "output_type": "execute_result"
    },
    {
     "data": {
      "image/png": "[encoded data removed]",
      "text/plain": [
       "<Figure size 432x288 with 2 Axes>"
      ]
     },
     "metadata": {
      "needs_background": "light"
     },
     "output_type": "display_data"
    }
   ],
   "source": [
    "from sklearn.neural_network import MLPClassifier\n",
    "\n",
    "clf_nn = MLPClassifier(hidden_layer_sizes = [5,5], solver='adam', alpha=0.0003, activation='relu',\n",
    "                     max_iter = 100, random_state = 42).fit(X_train, y_train)\n",
    "y_pred = clf_nn.predict(X_test)\n",
    "\n",
    "print('Recall: {:.3f}'.format(recall_score(y_test, y_pred)))\n",
    "print('Precision: {:.3f}'.format(precision_score(y_test, y_pred)))\n",
    "print('Accuracy: {:.3f}'.format(accuracy_score(y_test, y_pred)))\n",
    "print('F1: {:.3f}'.format(f1_score(y_test, y_pred)))\n",
    "cm = confusion_matrix(y_test, y_pred)\n",
    "sns.heatmap(cm, annot=True, fmt='d')"
   ]
  },
  {
   "cell_type": "markdown",
   "metadata": {},
   "source": [
    "We can calculate the best parameters for the model using *GridSearchCV*. The input parameters \n",
    "for the GridSearchCV method are\n",
    " \n",
    "1. The MLP model\n",
    "2. A parameter dictionary in which we define various hidden layers, activation units, learning rates.\n",
    "\n",
    "It trains the model and finds the best parameter."
   ]
  },
  {
   "cell_type": "code",
   "execution_count": 21,
   "metadata": {},
   "outputs": [],
   "source": [
    "from sklearn.model_selection import GridSearchCV\n",
    "\n",
    "check_parameters = {\n",
    "    'hidden_layer_sizes': [(50,50), (100,50)],\n",
    "    'activation': ['tanh', 'relu'],\n",
    "    'solver': ['sgd', 'adam'],\n",
    "    'alpha': [0.0001, 0.05],\n",
    "    'learning_rate': ['constant','adaptive'],\n",
    "}"
   ]
  },
  {
   "cell_type": "code",
   "execution_count": 22,
   "metadata": {},
   "outputs": [
    {
     "data": {
      "text/plain": [
       "GridSearchCV(cv=3,\n",
       "             estimator=MLPClassifier(alpha=0.0003, hidden_layer_sizes=[5, 5],\n",
       "                                     max_iter=100, random_state=42),\n",
       "             n_jobs=-1,\n",
       "             param_grid={'activation': ['tanh', 'relu'],\n",
       "                         'alpha': [0.0001, 0.05],\n",
       "                         'hidden_layer_sizes': [(50, 50), (100, 50)],\n",
       "                         'learning_rate': ['constant', 'adaptive'],\n",
       "                         'solver': ['sgd', 'adam']})"
      ]
     },
     "execution_count": 22,
     "metadata": {},
     "output_type": "execute_result"
    }
   ],
   "source": [
    "gridsearchcv = GridSearchCV(clf_nn, check_parameters, n_jobs=-1, cv=3)\n",
    "gridsearchcv.fit(X_train, y_train)"
   ]
  },
  {
   "cell_type": "code",
   "execution_count": 23,
   "metadata": {},
   "outputs": [
    {
     "name": "stdout",
     "output_type": "stream",
     "text": [
      "Best parameters found:\n",
      " {'activation': 'relu', 'alpha': 0.0001, 'hidden_layer_sizes': (100, 50), 'learning_rate': 'constant', 'solver': 'adam'}\n"
     ]
    }
   ],
   "source": [
    "print('Best parameters found:\\n', gridsearchcv.best_params_)"
   ]
  },
  {
   "cell_type": "code",
   "execution_count": 25,
   "metadata": {},
   "outputs": [
    {
     "name": "stdout",
     "output_type": "stream",
     "text": [
      "Recall: 0.999\n",
      "Precision: 0.997\n",
      "Accuracy: 0.999\n",
      "F1: 0.998\n"
     ]
    },
    {
     "data": {
      "text/plain": [
       "<AxesSubplot:>"
      ]
     },
     "execution_count": 25,
     "metadata": {},
     "output_type": "execute_result"
    },
    {
     "data": {
      "image/png": "[encoded data removed]",
      "text/plain": [
       "<Figure size 432x288 with 2 Axes>"
      ]
     },
     "metadata": {
      "needs_background": "light"
     },
     "output_type": "display_data"
    }
   ],
   "source": [
    "clf_nn = MLPClassifier(hidden_layer_sizes = (100, 50), solver='adam', alpha=0.0001, activation='relu',\n",
    "                     max_iter=300, learning_rate='constant', random_state = 42).fit(X_train, y_train)\n",
    "y_pred = clf_nn.predict(X_test)\n",
    "\n",
    "print('Recall: {:.3f}'.format(recall_score(y_test, y_pred)))\n",
    "print('Precision: {:.3f}'.format(precision_score(y_test, y_pred)))\n",
    "print('Accuracy: {:.3f}'.format(accuracy_score(y_test, y_pred)))\n",
    "print('F1: {:.3f}'.format(f1_score(y_test, y_pred)))\n",
    "cm = confusion_matrix(y_test, y_pred)\n",
    "sns.heatmap(cm, annot=True, fmt='d')"
   ]
  },
  {
   "cell_type": "markdown",
   "metadata": {},
   "source": [
    "As shown above, the metrics give much better scores with the parameters given by *GridSearchCV*. Let's do the same process now for the *selected* features."
   ]
  },
  {
   "cell_type": "code",
   "execution_count": 26,
   "metadata": {},
   "outputs": [],
   "source": [
    "X_train, X_test, y_train, y_test = train_test_split(X_selected, y, test_size=0.3, random_state=42)"
   ]
  },
  {
   "cell_type": "code",
   "execution_count": 27,
   "metadata": {},
   "outputs": [
    {
     "name": "stdout",
     "output_type": "stream",
     "text": [
      "Recall: 0.994\n",
      "Precision: 0.996\n",
      "Accuracy: 0.998\n",
      "F1: 0.995\n"
     ]
    },
    {
     "data": {
      "text/plain": [
       "<AxesSubplot:>"
      ]
     },
     "execution_count": 27,
     "metadata": {},
     "output_type": "execute_result"
    },
    {
     "data": {
      "image/png": "[encoded data removed]",
      "text/plain": [
       "<Figure size 432x288 with 2 Axes>"
      ]
     },
     "metadata": {
      "needs_background": "light"
     },
     "output_type": "display_data"
    }
   ],
   "source": [
    "clf_nn = MLPClassifier(hidden_layer_sizes = [5,5], solver='adam', alpha=0.0003, activation='relu',\n",
    "                     max_iter = 100, random_state = 42).fit(X_train, y_train)\n",
    "y_pred = clf_nn.predict(X_test)\n",
    "\n",
    "print('Recall: {:.3f}'.format(recall_score(y_test, y_pred)))\n",
    "print('Precision: {:.3f}'.format(precision_score(y_test, y_pred)))\n",
    "print('Accuracy: {:.3f}'.format(accuracy_score(y_test, y_pred)))\n",
    "print('F1: {:.3f}'.format(f1_score(y_test, y_pred)))\n",
    "cm = confusion_matrix(y_test, y_pred)\n",
    "sns.heatmap(cm, annot=True, fmt='d')"
   ]
  },
  {
   "cell_type": "code",
   "execution_count": 28,
   "metadata": {},
   "outputs": [
    {
     "data": {
      "text/plain": [
       "GridSearchCV(cv=3,\n",
       "             estimator=MLPClassifier(alpha=0.0003, hidden_layer_sizes=[5, 5],\n",
       "                                     max_iter=100, random_state=42),\n",
       "             n_jobs=-1,\n",
       "             param_grid={'activation': ['tanh', 'relu'],\n",
       "                         'alpha': [0.0001, 0.05],\n",
       "                         'hidden_layer_sizes': [(50, 50), (100, 50)],\n",
       "                         'learning_rate': ['constant', 'adaptive'],\n",
       "                         'solver': ['sgd', 'adam']})"
      ]
     },
     "execution_count": 28,
     "metadata": {},
     "output_type": "execute_result"
    }
   ],
   "source": [
    "gridsearchcv = GridSearchCV(clf_nn, check_parameters, n_jobs=-1, cv=3)\n",
    "gridsearchcv.fit(X_train, y_train)"
   ]
  },
  {
   "cell_type": "code",
   "execution_count": 29,
   "metadata": {},
   "outputs": [
    {
     "name": "stdout",
     "output_type": "stream",
     "text": [
      "Best parameters found:\n",
      " {'activation': 'relu', 'alpha': 0.0001, 'hidden_layer_sizes': (100, 50), 'learning_rate': 'constant', 'solver': 'adam'}\n"
     ]
    }
   ],
   "source": [
    "print('Best parameters found:\\n', gridsearchcv.best_params_)"
   ]
  },
  {
   "cell_type": "code",
   "execution_count": 30,
   "metadata": {},
   "outputs": [
    {
     "name": "stdout",
     "output_type": "stream",
     "text": [
      "Recall: 0.995\n",
      "Precision: 0.997\n",
      "Accuracy: 0.998\n",
      "F1: 0.996\n"
     ]
    },
    {
     "data": {
      "text/plain": [
       "<AxesSubplot:>"
      ]
     },
     "execution_count": 30,
     "metadata": {},
     "output_type": "execute_result"
    },
    {
     "data": {
      "image/png": "[encoded data removed]",
      "text/plain": [
       "<Figure size 432x288 with 2 Axes>"
      ]
     },
     "metadata": {
      "needs_background": "light"
     },
     "output_type": "display_data"
    }
   ],
   "source": [
    "clf_nn = MLPClassifier(hidden_layer_sizes = (100, 50), solver='adam', alpha=0.0001, activation='relu',\n",
    "                     max_iter=300, learning_rate='constant', random_state = 42).fit(X_train, y_train)\n",
    "y_pred = clf_nn.predict(X_test)\n",
    "\n",
    "print('Recall: {:.3f}'.format(recall_score(y_test, y_pred)))\n",
    "print('Precision: {:.3f}'.format(precision_score(y_test, y_pred)))\n",
    "print('Accuracy: {:.3f}'.format(accuracy_score(y_test, y_pred)))\n",
    "print('F1: {:.3f}'.format(f1_score(y_test, y_pred)))\n",
    "cm = confusion_matrix(y_test, y_pred)\n",
    "sns.heatmap(cm, annot=True, fmt='d')"
   ]
  },
  {
   "cell_type": "markdown",
   "metadata": {},
   "source": [
    "Overall, the last algorithm is giving the best performances for both groups of features, which might suggest that a bit more of tweaking and tuning could make it work ever better."
   ]
  },
  {
   "cell_type": "markdown",
   "metadata": {},
   "source": [
    "# Summary of the conclusions"
   ]
  },
  {
   "cell_type": "markdown",
   "metadata": {},
   "source": [
    "As a conclusion we can say that flight delays seem to be predictible from the information related to previous flights. In particular, for our models it was enough to use the encoded cathegorical features *origin* and *destination*, plus the quantitative features *departure-time*, *departure-delay*, *taxi-out*, *taxi-in*, *arrival-time*, *air-time*, *carrier-delay*, *weather-delay*, *nas-delay*, *security-delay*, *late-aircraft-delay* and the seasonal features *month*, *day-of-the-month* and *day-of-the-week*.\n",
    "\n",
    "We have noted that, according to all measures used, *departure-delay* is by far the most important feature when predicting *delayed* flights. This is something one could have expected, since a delay at departure will lead to a delayed flight in most cases."
   ]
  }
 ],
 "metadata": {
  "kernelspec": {
   "display_name": "Python 3",
   "language": "python",
   "name": "python3"
  },
  "language_info": {
   "codemirror_mode": {
    "name": "ipython",
    "version": 3
   },
   "file_extension": ".py",
   "mimetype": "text/x-python",
   "name": "python",
   "nbconvert_exporter": "python",
   "pygments_lexer": "ipython3",
   "version": "3.8.5"
  }
 },
 "nbformat": 4,
 "nbformat_minor": 4
}
